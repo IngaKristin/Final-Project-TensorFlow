{
  "nbformat": 4,
  "nbformat_minor": 0,
  "metadata": {
    "colab": {
      "name": "dataset_preprocessing.ipynb",
      "provenance": [],
      "collapsed_sections": [],
      "authorship_tag": "ABX9TyNfyMDRhxUJaTXo4/NAUoIv",
      "include_colab_link": true
    },
    "kernelspec": {
      "name": "python3",
      "display_name": "Python 3"
    },
    "language_info": {
      "name": "python"
    }
  },
  "cells": [
    {
      "cell_type": "markdown",
      "metadata": {
        "id": "view-in-github",
        "colab_type": "text"
      },
      "source": [
        "<a href=\"https://colab.research.google.com/github/IngaKristin/Final-Project-TensorFlow/blob/vera-branch/dataset_preprocessing.ipynb\" target=\"_parent\"><img src=\"https://colab.research.google.com/assets/colab-badge.svg\" alt=\"Open In Colab\"/></a>"
      ]
    },
    {
      "cell_type": "markdown",
      "source": [
        "**Important Links:**\n",
        "- [Paper](https://arxiv.org/pdf/2011.13062.pdf)\n",
        "- [GitHub](https://github.com/sfc-computational-creativity-lab/x-rhythm-can)"
      ],
      "metadata": {
        "id": "woNE4dyrFUUh"
      }
    },
    {
      "cell_type": "markdown",
      "source": [
        "1. [Donwload](https://magenta.tensorflow.org/datasets/groove#format) the Groove MIDI Dataset"
      ],
      "metadata": {
        "id": "NF6WV6HoGXoY"
      }
    },
    {
      "cell_type": "code",
      "execution_count": 1,
      "metadata": {
        "id": "cQmHoImIFFS_"
      },
      "outputs": [],
      "source": [
        "import tensorflow as tfds"
      ]
    }
  ]
}