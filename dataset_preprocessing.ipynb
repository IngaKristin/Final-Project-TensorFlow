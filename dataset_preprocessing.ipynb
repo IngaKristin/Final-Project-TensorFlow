{
  "nbformat": 4,
  "nbformat_minor": 0,
  "metadata": {
    "colab": {
      "name": "dataset_preprocessing.ipynb",
      "provenance": [],
      "collapsed_sections": [],
      "authorship_tag": "ABX9TyMzQ/rAQcNlPYQOKlwgvVa3",
      "include_colab_link": true
    },
    "kernelspec": {
      "name": "python3",
      "display_name": "Python 3"
    },
    "language_info": {
      "name": "python"
    }
  },
  "cells": [
    {
      "cell_type": "markdown",
      "metadata": {
        "id": "view-in-github",
        "colab_type": "text"
      },
      "source": [
        "<a href=\"https://colab.research.google.com/github/IngaKristin/Final-Project-TensorFlow/blob/vera-branch/dataset_preprocessing.ipynb\" target=\"_parent\"><img src=\"https://colab.research.google.com/assets/colab-badge.svg\" alt=\"Open In Colab\"/></a>"
      ]
    },
    {
      "cell_type": "markdown",
      "source": [
        "**Important Links:**\n",
        "- [Paper](https://arxiv.org/pdf/2011.13062.pdf)\n",
        "- [GitHub](https://github.com/sfc-computational-creativity-lab/x-rhythm-can)"
      ],
      "metadata": {
        "id": "woNE4dyrFUUh"
      }
    },
    {
      "cell_type": "markdown",
      "source": [
        "1. [Donwload](https://magenta.tensorflow.org/datasets/groove#format) the Groove MIDI Dataset\n",
        "2. Mount the dataset to Google Drive"
      ],
      "metadata": {
        "id": "NF6WV6HoGXoY"
      }
    },
    {
      "cell_type": "code",
      "source": [
        "from google.colab import drive\n",
        "drive.mount('/content/drive')"
      ],
      "metadata": {
        "colab": {
          "base_uri": "https://localhost:8080/"
        },
        "id": "X27Pbxd1HM-l",
        "outputId": "15b1a846-92ca-4fe5-ce88-d5eecb4313b5"
      },
      "execution_count": 2,
      "outputs": [
        {
          "output_type": "stream",
          "name": "stdout",
          "text": [
            "Mounted at /content/drive\n"
          ]
        }
      ]
    },
    {
      "cell_type": "markdown",
      "source": [
        "# **1. Load the Dataset**"
      ],
      "metadata": {
        "id": "np01Iu0kH22R"
      }
    },
    {
      "cell_type": "markdown",
      "source": [
        "##### **1.1 Before loading the dataset, let's have a look at the `info.csv` file.**"
      ],
      "metadata": {
        "id": "ShbVyQy-IN1m"
      }
    },
    {
      "cell_type": "code",
      "source": [
        "import pandas as pd\n",
        "import matplotlib.pyplot as plt"
      ],
      "metadata": {
        "id": "Ege-faK2IYXB"
      },
      "execution_count": 3,
      "outputs": []
    },
    {
      "cell_type": "code",
      "source": [
        "df = pd.read_csv('/content/drive/MyDrive/TF-dataset/groove/info.csv')\n",
        "df"
      ],
      "metadata": {
        "colab": {
          "base_uri": "https://localhost:8080/",
          "height": 661
        },
        "id": "VpTa7iR-IUoL",
        "outputId": "ed3f6e91-b159-442b-d11e-401366a9847d"
      },
      "execution_count": 26,
      "outputs": [
        {
          "output_type": "execute_result",
          "data": {
            "text/plain": [
              "       drummer                session                        id  \\\n",
              "0     drummer1  drummer1/eval_session   drummer1/eval_session/1   \n",
              "1     drummer1  drummer1/eval_session  drummer1/eval_session/10   \n",
              "2     drummer1  drummer1/eval_session   drummer1/eval_session/2   \n",
              "3     drummer1  drummer1/eval_session   drummer1/eval_session/3   \n",
              "4     drummer1  drummer1/eval_session   drummer1/eval_session/4   \n",
              "...        ...                    ...                       ...   \n",
              "1145  drummer2      drummer2/session2      drummer2/session2/11   \n",
              "1146  drummer2      drummer2/session2      drummer2/session2/12   \n",
              "1147  drummer2      drummer2/session2      drummer2/session2/13   \n",
              "1148  drummer2      drummer2/session2      drummer2/session2/14   \n",
              "1149  drummer2      drummer2/session2      drummer2/session2/15   \n",
              "\n",
              "              style  bpm beat_type time_signature  \\\n",
              "0      funk/groove1  138      beat            4-4   \n",
              "1     soul/groove10  102      beat            4-4   \n",
              "2      funk/groove2  105      beat            4-4   \n",
              "3      soul/groove3   86      beat            4-4   \n",
              "4      soul/groove4   80      beat            4-4   \n",
              "...             ...  ...       ...            ...   \n",
              "1145           rock  130      beat            4-4   \n",
              "1146           rock  130      beat            4-4   \n",
              "1147           rock  130      beat            4-4   \n",
              "1148           rock  130      beat            4-4   \n",
              "1149           rock  130      beat            4-4   \n",
              "\n",
              "                                          midi_filename  \\\n",
              "0     drummer1/eval_session/1_funk-groove1_138_beat_...   \n",
              "1     drummer1/eval_session/10_soul-groove10_102_bea...   \n",
              "2     drummer1/eval_session/2_funk-groove2_105_beat_...   \n",
              "3     drummer1/eval_session/3_soul-groove3_86_beat_4...   \n",
              "4     drummer1/eval_session/4_soul-groove4_80_beat_4...   \n",
              "...                                                 ...   \n",
              "1145         drummer2/session2/11_rock_130_beat_4-4.mid   \n",
              "1146         drummer2/session2/12_rock_130_beat_4-4.mid   \n",
              "1147         drummer2/session2/13_rock_130_beat_4-4.mid   \n",
              "1148         drummer2/session2/14_rock_130_beat_4-4.mid   \n",
              "1149         drummer2/session2/15_rock_130_beat_4-4.mid   \n",
              "\n",
              "                                         audio_filename   duration  split  \n",
              "0     drummer1/eval_session/1_funk-groove1_138_beat_...  27.872308   test  \n",
              "1     drummer1/eval_session/10_soul-groove10_102_bea...  37.691158   test  \n",
              "2     drummer1/eval_session/2_funk-groove2_105_beat_...  36.351218   test  \n",
              "3     drummer1/eval_session/3_soul-groove3_86_beat_4...  44.716543   test  \n",
              "4     drummer1/eval_session/4_soul-groove4_80_beat_4...  47.987500   test  \n",
              "...                                                 ...        ...    ...  \n",
              "1145                                                NaN   1.909613  train  \n",
              "1146                                                NaN   1.808652  train  \n",
              "1147                                                NaN   1.864421  train  \n",
              "1148                                                NaN   1.875960  train  \n",
              "1149                                                NaN   3.714419  train  \n",
              "\n",
              "[1150 rows x 11 columns]"
            ],
            "text/html": [
              "\n",
              "  <div id=\"df-ec7c65a0-c8eb-421a-9215-c5ef7d8acedc\">\n",
              "    <div class=\"colab-df-container\">\n",
              "      <div>\n",
              "<style scoped>\n",
              "    .dataframe tbody tr th:only-of-type {\n",
              "        vertical-align: middle;\n",
              "    }\n",
              "\n",
              "    .dataframe tbody tr th {\n",
              "        vertical-align: top;\n",
              "    }\n",
              "\n",
              "    .dataframe thead th {\n",
              "        text-align: right;\n",
              "    }\n",
              "</style>\n",
              "<table border=\"1\" class=\"dataframe\">\n",
              "  <thead>\n",
              "    <tr style=\"text-align: right;\">\n",
              "      <th></th>\n",
              "      <th>drummer</th>\n",
              "      <th>session</th>\n",
              "      <th>id</th>\n",
              "      <th>style</th>\n",
              "      <th>bpm</th>\n",
              "      <th>beat_type</th>\n",
              "      <th>time_signature</th>\n",
              "      <th>midi_filename</th>\n",
              "      <th>audio_filename</th>\n",
              "      <th>duration</th>\n",
              "      <th>split</th>\n",
              "    </tr>\n",
              "  </thead>\n",
              "  <tbody>\n",
              "    <tr>\n",
              "      <th>0</th>\n",
              "      <td>drummer1</td>\n",
              "      <td>drummer1/eval_session</td>\n",
              "      <td>drummer1/eval_session/1</td>\n",
              "      <td>funk/groove1</td>\n",
              "      <td>138</td>\n",
              "      <td>beat</td>\n",
              "      <td>4-4</td>\n",
              "      <td>drummer1/eval_session/1_funk-groove1_138_beat_...</td>\n",
              "      <td>drummer1/eval_session/1_funk-groove1_138_beat_...</td>\n",
              "      <td>27.872308</td>\n",
              "      <td>test</td>\n",
              "    </tr>\n",
              "    <tr>\n",
              "      <th>1</th>\n",
              "      <td>drummer1</td>\n",
              "      <td>drummer1/eval_session</td>\n",
              "      <td>drummer1/eval_session/10</td>\n",
              "      <td>soul/groove10</td>\n",
              "      <td>102</td>\n",
              "      <td>beat</td>\n",
              "      <td>4-4</td>\n",
              "      <td>drummer1/eval_session/10_soul-groove10_102_bea...</td>\n",
              "      <td>drummer1/eval_session/10_soul-groove10_102_bea...</td>\n",
              "      <td>37.691158</td>\n",
              "      <td>test</td>\n",
              "    </tr>\n",
              "    <tr>\n",
              "      <th>2</th>\n",
              "      <td>drummer1</td>\n",
              "      <td>drummer1/eval_session</td>\n",
              "      <td>drummer1/eval_session/2</td>\n",
              "      <td>funk/groove2</td>\n",
              "      <td>105</td>\n",
              "      <td>beat</td>\n",
              "      <td>4-4</td>\n",
              "      <td>drummer1/eval_session/2_funk-groove2_105_beat_...</td>\n",
              "      <td>drummer1/eval_session/2_funk-groove2_105_beat_...</td>\n",
              "      <td>36.351218</td>\n",
              "      <td>test</td>\n",
              "    </tr>\n",
              "    <tr>\n",
              "      <th>3</th>\n",
              "      <td>drummer1</td>\n",
              "      <td>drummer1/eval_session</td>\n",
              "      <td>drummer1/eval_session/3</td>\n",
              "      <td>soul/groove3</td>\n",
              "      <td>86</td>\n",
              "      <td>beat</td>\n",
              "      <td>4-4</td>\n",
              "      <td>drummer1/eval_session/3_soul-groove3_86_beat_4...</td>\n",
              "      <td>drummer1/eval_session/3_soul-groove3_86_beat_4...</td>\n",
              "      <td>44.716543</td>\n",
              "      <td>test</td>\n",
              "    </tr>\n",
              "    <tr>\n",
              "      <th>4</th>\n",
              "      <td>drummer1</td>\n",
              "      <td>drummer1/eval_session</td>\n",
              "      <td>drummer1/eval_session/4</td>\n",
              "      <td>soul/groove4</td>\n",
              "      <td>80</td>\n",
              "      <td>beat</td>\n",
              "      <td>4-4</td>\n",
              "      <td>drummer1/eval_session/4_soul-groove4_80_beat_4...</td>\n",
              "      <td>drummer1/eval_session/4_soul-groove4_80_beat_4...</td>\n",
              "      <td>47.987500</td>\n",
              "      <td>test</td>\n",
              "    </tr>\n",
              "    <tr>\n",
              "      <th>...</th>\n",
              "      <td>...</td>\n",
              "      <td>...</td>\n",
              "      <td>...</td>\n",
              "      <td>...</td>\n",
              "      <td>...</td>\n",
              "      <td>...</td>\n",
              "      <td>...</td>\n",
              "      <td>...</td>\n",
              "      <td>...</td>\n",
              "      <td>...</td>\n",
              "      <td>...</td>\n",
              "    </tr>\n",
              "    <tr>\n",
              "      <th>1145</th>\n",
              "      <td>drummer2</td>\n",
              "      <td>drummer2/session2</td>\n",
              "      <td>drummer2/session2/11</td>\n",
              "      <td>rock</td>\n",
              "      <td>130</td>\n",
              "      <td>beat</td>\n",
              "      <td>4-4</td>\n",
              "      <td>drummer2/session2/11_rock_130_beat_4-4.mid</td>\n",
              "      <td>NaN</td>\n",
              "      <td>1.909613</td>\n",
              "      <td>train</td>\n",
              "    </tr>\n",
              "    <tr>\n",
              "      <th>1146</th>\n",
              "      <td>drummer2</td>\n",
              "      <td>drummer2/session2</td>\n",
              "      <td>drummer2/session2/12</td>\n",
              "      <td>rock</td>\n",
              "      <td>130</td>\n",
              "      <td>beat</td>\n",
              "      <td>4-4</td>\n",
              "      <td>drummer2/session2/12_rock_130_beat_4-4.mid</td>\n",
              "      <td>NaN</td>\n",
              "      <td>1.808652</td>\n",
              "      <td>train</td>\n",
              "    </tr>\n",
              "    <tr>\n",
              "      <th>1147</th>\n",
              "      <td>drummer2</td>\n",
              "      <td>drummer2/session2</td>\n",
              "      <td>drummer2/session2/13</td>\n",
              "      <td>rock</td>\n",
              "      <td>130</td>\n",
              "      <td>beat</td>\n",
              "      <td>4-4</td>\n",
              "      <td>drummer2/session2/13_rock_130_beat_4-4.mid</td>\n",
              "      <td>NaN</td>\n",
              "      <td>1.864421</td>\n",
              "      <td>train</td>\n",
              "    </tr>\n",
              "    <tr>\n",
              "      <th>1148</th>\n",
              "      <td>drummer2</td>\n",
              "      <td>drummer2/session2</td>\n",
              "      <td>drummer2/session2/14</td>\n",
              "      <td>rock</td>\n",
              "      <td>130</td>\n",
              "      <td>beat</td>\n",
              "      <td>4-4</td>\n",
              "      <td>drummer2/session2/14_rock_130_beat_4-4.mid</td>\n",
              "      <td>NaN</td>\n",
              "      <td>1.875960</td>\n",
              "      <td>train</td>\n",
              "    </tr>\n",
              "    <tr>\n",
              "      <th>1149</th>\n",
              "      <td>drummer2</td>\n",
              "      <td>drummer2/session2</td>\n",
              "      <td>drummer2/session2/15</td>\n",
              "      <td>rock</td>\n",
              "      <td>130</td>\n",
              "      <td>beat</td>\n",
              "      <td>4-4</td>\n",
              "      <td>drummer2/session2/15_rock_130_beat_4-4.mid</td>\n",
              "      <td>NaN</td>\n",
              "      <td>3.714419</td>\n",
              "      <td>train</td>\n",
              "    </tr>\n",
              "  </tbody>\n",
              "</table>\n",
              "<p>1150 rows × 11 columns</p>\n",
              "</div>\n",
              "      <button class=\"colab-df-convert\" onclick=\"convertToInteractive('df-ec7c65a0-c8eb-421a-9215-c5ef7d8acedc')\"\n",
              "              title=\"Convert this dataframe to an interactive table.\"\n",
              "              style=\"display:none;\">\n",
              "        \n",
              "  <svg xmlns=\"http://www.w3.org/2000/svg\" height=\"24px\"viewBox=\"0 0 24 24\"\n",
              "       width=\"24px\">\n",
              "    <path d=\"M0 0h24v24H0V0z\" fill=\"none\"/>\n",
              "    <path d=\"M18.56 5.44l.94 2.06.94-2.06 2.06-.94-2.06-.94-.94-2.06-.94 2.06-2.06.94zm-11 1L8.5 8.5l.94-2.06 2.06-.94-2.06-.94L8.5 2.5l-.94 2.06-2.06.94zm10 10l.94 2.06.94-2.06 2.06-.94-2.06-.94-.94-2.06-.94 2.06-2.06.94z\"/><path d=\"M17.41 7.96l-1.37-1.37c-.4-.4-.92-.59-1.43-.59-.52 0-1.04.2-1.43.59L10.3 9.45l-7.72 7.72c-.78.78-.78 2.05 0 2.83L4 21.41c.39.39.9.59 1.41.59.51 0 1.02-.2 1.41-.59l7.78-7.78 2.81-2.81c.8-.78.8-2.07 0-2.86zM5.41 20L4 18.59l7.72-7.72 1.47 1.35L5.41 20z\"/>\n",
              "  </svg>\n",
              "      </button>\n",
              "      \n",
              "  <style>\n",
              "    .colab-df-container {\n",
              "      display:flex;\n",
              "      flex-wrap:wrap;\n",
              "      gap: 12px;\n",
              "    }\n",
              "\n",
              "    .colab-df-convert {\n",
              "      background-color: #E8F0FE;\n",
              "      border: none;\n",
              "      border-radius: 50%;\n",
              "      cursor: pointer;\n",
              "      display: none;\n",
              "      fill: #1967D2;\n",
              "      height: 32px;\n",
              "      padding: 0 0 0 0;\n",
              "      width: 32px;\n",
              "    }\n",
              "\n",
              "    .colab-df-convert:hover {\n",
              "      background-color: #E2EBFA;\n",
              "      box-shadow: 0px 1px 2px rgba(60, 64, 67, 0.3), 0px 1px 3px 1px rgba(60, 64, 67, 0.15);\n",
              "      fill: #174EA6;\n",
              "    }\n",
              "\n",
              "    [theme=dark] .colab-df-convert {\n",
              "      background-color: #3B4455;\n",
              "      fill: #D2E3FC;\n",
              "    }\n",
              "\n",
              "    [theme=dark] .colab-df-convert:hover {\n",
              "      background-color: #434B5C;\n",
              "      box-shadow: 0px 1px 3px 1px rgba(0, 0, 0, 0.15);\n",
              "      filter: drop-shadow(0px 1px 2px rgba(0, 0, 0, 0.3));\n",
              "      fill: #FFFFFF;\n",
              "    }\n",
              "  </style>\n",
              "\n",
              "      <script>\n",
              "        const buttonEl =\n",
              "          document.querySelector('#df-ec7c65a0-c8eb-421a-9215-c5ef7d8acedc button.colab-df-convert');\n",
              "        buttonEl.style.display =\n",
              "          google.colab.kernel.accessAllowed ? 'block' : 'none';\n",
              "\n",
              "        async function convertToInteractive(key) {\n",
              "          const element = document.querySelector('#df-ec7c65a0-c8eb-421a-9215-c5ef7d8acedc');\n",
              "          const dataTable =\n",
              "            await google.colab.kernel.invokeFunction('convertToInteractive',\n",
              "                                                     [key], {});\n",
              "          if (!dataTable) return;\n",
              "\n",
              "          const docLinkHtml = 'Like what you see? Visit the ' +\n",
              "            '<a target=\"_blank\" href=https://colab.research.google.com/notebooks/data_table.ipynb>data table notebook</a>'\n",
              "            + ' to learn more about interactive tables.';\n",
              "          element.innerHTML = '';\n",
              "          dataTable['output_type'] = 'display_data';\n",
              "          await google.colab.output.renderOutput(dataTable, element);\n",
              "          const docLink = document.createElement('div');\n",
              "          docLink.innerHTML = docLinkHtml;\n",
              "          element.appendChild(docLink);\n",
              "        }\n",
              "      </script>\n",
              "    </div>\n",
              "  </div>\n",
              "  "
            ]
          },
          "metadata": {},
          "execution_count": 26
        }
      ]
    },
    {
      "cell_type": "markdown",
      "source": [
        "##### **1.2 Next, let's have a look at the column names and their meaning.**"
      ],
      "metadata": {
        "id": "i8dazO53MGgT"
      }
    },
    {
      "cell_type": "code",
      "source": [
        "df.columns"
      ],
      "metadata": {
        "colab": {
          "base_uri": "https://localhost:8080/"
        },
        "id": "gpxJ6zbWJ83X",
        "outputId": "f01507b7-68ea-4f50-8bac-1e7741575cd9"
      },
      "execution_count": 37,
      "outputs": [
        {
          "output_type": "execute_result",
          "data": {
            "text/plain": [
              "Index(['drummer', 'session', 'id', 'style', 'bpm', 'beat_type',\n",
              "       'time_signature', 'midi_filename', 'audio_filename', 'duration',\n",
              "       'split'],\n",
              "      dtype='object')"
            ]
          },
          "metadata": {},
          "execution_count": 37
        }
      ]
    },
    {
      "cell_type": "markdown",
      "source": [
        "`drummer` <br>\n",
        "`session` <br>\n",
        "`id` <br>\n",
        "`style` <br>\n",
        "`bpm` <br>\n",
        "`beat_type` <br>\n",
        "`time_signature` <br>\n",
        "`midi_filename` <br>\n",
        "`audio_filename` <br>\n",
        "`duration` <br>\n",
        "`split` <br>"
      ],
      "metadata": {
        "id": "ruVN-b9NM-EC"
      }
    },
    {
      "cell_type": "code",
      "source": [
        "df.info"
      ],
      "metadata": {
        "colab": {
          "base_uri": "https://localhost:8080/"
        },
        "id": "fmhLR3djLfr7",
        "outputId": "e0db5a2c-2f16-4c00-94b5-a2d8df2a0804"
      },
      "execution_count": 33,
      "outputs": [
        {
          "output_type": "execute_result",
          "data": {
            "text/plain": [
              "<bound method DataFrame.info of        drummer                session                        id  \\\n",
              "0     drummer1  drummer1/eval_session   drummer1/eval_session/1   \n",
              "1     drummer1  drummer1/eval_session  drummer1/eval_session/10   \n",
              "2     drummer1  drummer1/eval_session   drummer1/eval_session/2   \n",
              "3     drummer1  drummer1/eval_session   drummer1/eval_session/3   \n",
              "4     drummer1  drummer1/eval_session   drummer1/eval_session/4   \n",
              "...        ...                    ...                       ...   \n",
              "1145  drummer2      drummer2/session2      drummer2/session2/11   \n",
              "1146  drummer2      drummer2/session2      drummer2/session2/12   \n",
              "1147  drummer2      drummer2/session2      drummer2/session2/13   \n",
              "1148  drummer2      drummer2/session2      drummer2/session2/14   \n",
              "1149  drummer2      drummer2/session2      drummer2/session2/15   \n",
              "\n",
              "              style  bpm beat_type time_signature  \\\n",
              "0      funk/groove1  138      beat            4-4   \n",
              "1     soul/groove10  102      beat            4-4   \n",
              "2      funk/groove2  105      beat            4-4   \n",
              "3      soul/groove3   86      beat            4-4   \n",
              "4      soul/groove4   80      beat            4-4   \n",
              "...             ...  ...       ...            ...   \n",
              "1145           rock  130      beat            4-4   \n",
              "1146           rock  130      beat            4-4   \n",
              "1147           rock  130      beat            4-4   \n",
              "1148           rock  130      beat            4-4   \n",
              "1149           rock  130      beat            4-4   \n",
              "\n",
              "                                          midi_filename  \\\n",
              "0     drummer1/eval_session/1_funk-groove1_138_beat_...   \n",
              "1     drummer1/eval_session/10_soul-groove10_102_bea...   \n",
              "2     drummer1/eval_session/2_funk-groove2_105_beat_...   \n",
              "3     drummer1/eval_session/3_soul-groove3_86_beat_4...   \n",
              "4     drummer1/eval_session/4_soul-groove4_80_beat_4...   \n",
              "...                                                 ...   \n",
              "1145         drummer2/session2/11_rock_130_beat_4-4.mid   \n",
              "1146         drummer2/session2/12_rock_130_beat_4-4.mid   \n",
              "1147         drummer2/session2/13_rock_130_beat_4-4.mid   \n",
              "1148         drummer2/session2/14_rock_130_beat_4-4.mid   \n",
              "1149         drummer2/session2/15_rock_130_beat_4-4.mid   \n",
              "\n",
              "                                         audio_filename   duration  split  \n",
              "0     drummer1/eval_session/1_funk-groove1_138_beat_...  27.872308   test  \n",
              "1     drummer1/eval_session/10_soul-groove10_102_bea...  37.691158   test  \n",
              "2     drummer1/eval_session/2_funk-groove2_105_beat_...  36.351218   test  \n",
              "3     drummer1/eval_session/3_soul-groove3_86_beat_4...  44.716543   test  \n",
              "4     drummer1/eval_session/4_soul-groove4_80_beat_4...  47.987500   test  \n",
              "...                                                 ...        ...    ...  \n",
              "1145                                                NaN   1.909613  train  \n",
              "1146                                                NaN   1.808652  train  \n",
              "1147                                                NaN   1.864421  train  \n",
              "1148                                                NaN   1.875960  train  \n",
              "1149                                                NaN   3.714419  train  \n",
              "\n",
              "[1150 rows x 11 columns]>"
            ]
          },
          "metadata": {},
          "execution_count": 33
        }
      ]
    },
    {
      "cell_type": "code",
      "source": [
        "count_train = df[df['split'] == 'train'].count()\n",
        "count_test = df[df['split'] == 'test'].count()\n",
        "count_train\n",
        "#f\"The number of train data is {count_train}, {count_test}\""
      ],
      "metadata": {
        "colab": {
          "base_uri": "https://localhost:8080/"
        },
        "id": "OZrB43BVKico",
        "outputId": "fa8d8fee-363a-4e91-b121-ab249c02a1ce"
      },
      "execution_count": 34,
      "outputs": [
        {
          "output_type": "execute_result",
          "data": {
            "text/plain": [
              "drummer           897\n",
              "session           897\n",
              "id                897\n",
              "style             897\n",
              "bpm               897\n",
              "beat_type         897\n",
              "time_signature    897\n",
              "midi_filename     897\n",
              "audio_filename    846\n",
              "duration          897\n",
              "split             897\n",
              "dtype: int64"
            ]
          },
          "metadata": {},
          "execution_count": 34
        }
      ]
    },
    {
      "cell_type": "code",
      "execution_count": 1,
      "metadata": {
        "id": "cQmHoImIFFS_"
      },
      "outputs": [],
      "source": [
        "import tensorflow as tfds"
      ]
    }
  ]
}