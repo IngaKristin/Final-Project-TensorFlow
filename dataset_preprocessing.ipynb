{
  "nbformat": 4,
  "nbformat_minor": 0,
  "metadata": {
    "colab": {
      "name": "dataset_preprocessing.ipynb",
      "provenance": [],
      "collapsed_sections": [],
      "authorship_tag": "ABX9TyNKZV4RgWwSI2U3D7E+mYCm",
      "include_colab_link": true
    },
    "kernelspec": {
      "name": "python3",
      "display_name": "Python 3"
    },
    "language_info": {
      "name": "python"
    }
  },
  "cells": [
    {
      "cell_type": "markdown",
      "metadata": {
        "id": "view-in-github",
        "colab_type": "text"
      },
      "source": [
        "<a href=\"https://colab.research.google.com/github/IngaKristin/Final-Project-TensorFlow/blob/vera-branch/dataset_preprocessing.ipynb\" target=\"_parent\"><img src=\"https://colab.research.google.com/assets/colab-badge.svg\" alt=\"Open In Colab\"/></a>"
      ]
    },
    {
      "cell_type": "markdown",
      "source": [
        "**Important Links:**\n",
        "- [Paper](https://arxiv.org/pdf/2011.13062.pdf)\n",
        "- [GitHub](https://github.com/sfc-computational-creativity-lab/x-rhythm-can)"
      ],
      "metadata": {
        "id": "woNE4dyrFUUh"
      }
    },
    {
      "cell_type": "markdown",
      "source": [
        "1. [Donwload](https://magenta.tensorflow.org/datasets/groove#format) the Groove MIDI Dataset\n",
        "2. Mount the dataset to Google Drive"
      ],
      "metadata": {
        "id": "NF6WV6HoGXoY"
      }
    },
    {
      "cell_type": "code",
      "source": [
        "from google.colab import drive\n",
        "drive.mount('/content/drive')"
      ],
      "metadata": {
        "colab": {
          "base_uri": "https://localhost:8080/"
        },
        "id": "X27Pbxd1HM-l",
        "outputId": "15b1a846-92ca-4fe5-ce88-d5eecb4313b5"
      },
      "execution_count": 2,
      "outputs": [
        {
          "output_type": "stream",
          "name": "stdout",
          "text": [
            "Mounted at /content/drive\n"
          ]
        }
      ]
    },
    {
      "cell_type": "code",
      "execution_count": 1,
      "metadata": {
        "id": "cQmHoImIFFS_"
      },
      "outputs": [],
      "source": [
        "import tensorflow as tfds"
      ]
    }
  ]
}